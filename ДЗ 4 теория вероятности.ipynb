{
 "cells": [
  {
   "cell_type": "code",
   "execution_count": 1,
   "id": "c4a9c5b7",
   "metadata": {},
   "outputs": [],
   "source": [
    "#задача 1."
   ]
  },
  {
   "cell_type": "code",
   "execution_count": 3,
   "id": "1c139ec1",
   "metadata": {},
   "outputs": [],
   "source": [
    "def mean_and_variance(a,b):\n",
    "    return f'На промежутке ({a};{b}]\\nСреднее значение: М(А) = {(a+b)/2: .2f}\\nДисперсия: D(A) = {((b-a)**2)/12: .2f}'"
   ]
  },
  {
   "cell_type": "code",
   "execution_count": 4,
   "id": "e53a6066",
   "metadata": {},
   "outputs": [
    {
     "name": "stdout",
     "output_type": "stream",
     "text": [
      "На промежутке (200;800]\n",
      "Среднее значение: М(А) =  500.00\n",
      "Дисперсия: D(A) =  30000.00\n"
     ]
    }
   ],
   "source": [
    "print(mean_and_variance(200,800))"
   ]
  },
  {
   "cell_type": "code",
   "execution_count": null,
   "id": "a2c92647",
   "metadata": {},
   "outputs": [],
   "source": []
  },
  {
   "cell_type": "code",
   "execution_count": null,
   "id": "4fd751e5",
   "metadata": {},
   "outputs": [],
   "source": []
  },
  {
   "cell_type": "code",
   "execution_count": 5,
   "id": "033159c8",
   "metadata": {},
   "outputs": [],
   "source": [
    "#Задача 2"
   ]
  },
  {
   "cell_type": "code",
   "execution_count": 6,
   "id": "be419163",
   "metadata": {},
   "outputs": [],
   "source": [
    "b=0.5+2.4**(1/2)"
   ]
  },
  {
   "cell_type": "code",
   "execution_count": 7,
   "id": "32611e5c",
   "metadata": {},
   "outputs": [
    {
     "name": "stdout",
     "output_type": "stream",
     "text": [
      "Левая граница распределения величины В - b =  2.049\n",
      "Среднее значение В на промежутке (0.5;  2.049) M(B) =  1.275\n"
     ]
    }
   ],
   "source": [
    "print(f'Левая граница распределения величины В - b = {b: .3f}\\n'\n",
    "      f'Среднее значение В на промежутке (0.5; {b: .3f}) M(B) = {(b+0.5)/2: .3f}'     \n",
    "     )"
   ]
  },
  {
   "cell_type": "code",
   "execution_count": null,
   "id": "2af222b8",
   "metadata": {},
   "outputs": [],
   "source": []
  }
 ],
 "metadata": {
  "kernelspec": {
   "display_name": "Python 3",
   "language": "python",
   "name": "python3"
  },
  "language_info": {
   "codemirror_mode": {
    "name": "ipython",
    "version": 3
   },
   "file_extension": ".py",
   "mimetype": "text/x-python",
   "name": "python",
   "nbconvert_exporter": "python",
   "pygments_lexer": "ipython3",
   "version": "3.8.8"
  }
 },
 "nbformat": 4,
 "nbformat_minor": 5
}
